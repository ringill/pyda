{
 "cells": [
  {
   "cell_type": "markdown",
   "metadata": {},
   "source": [
    "## Задание 1"
   ]
  },
  {
   "cell_type": "markdown",
   "metadata": {},
   "source": [
    "Печатные газеты использовали свой формат дат для каждого выпуска. Для каждой газеты из списка напишите формат указанной даты для перевода в объект datetime:\n",
    "The Moscow Times — Wednesday, October 2, 2002\n",
    "The Guardian — Friday, 11.10.13\n",
    "Daily News — Thursday, 18 August 1977"
   ]
  },
  {
   "cell_type": "code",
   "execution_count": null,
   "metadata": {},
   "outputs": [],
   "source": [
    "from datetime import datetime\n",
    "\n",
    "# Входящие данные\n",
    "data = {\n",
    "    'The Moscow Times': 'Wednesday, October 2, 2002',\n",
    "    'The Guardian': 'Friday, 11.10.13',\n",
    "    'Daily News': 'Thursday, 18 August 1977'\n",
    "}\n",
    "\n",
    "# Логика\n",
    "def datetime_strptime(source, value):\n",
    "    format = None\n",
    "    match source:\n",
    "        case 'The Moscow Times':\n",
    "            format = \"%A, %B %d, %Y\"\n",
    "        case 'The Guardian':\n",
    "            format = \"%A, %d.%m.%y\"\n",
    "        case 'Daily News':\n",
    "            format = \"%A, %d %B %Y\"\n",
    "        case _:\n",
    "            return None\n",
    "\n",
    "    date_obj = datetime.strptime(value, format)\n",
    "\n",
    "    return date_obj.strftime(\"%Y-%m-%d\")\n",
    "\n",
    "# Вызов\n",
    "# Если все выведенные даты в одном формате, значит всё успешно.\n",
    "for key, value in data.items():\n",
    "    print(f\"{key}: {datetime_strptime(key, value)}\")"
   ]
  },
  {
   "cell_type": "markdown",
   "metadata": {},
   "source": [
    "## Задание 2"
   ]
  },
  {
   "cell_type": "markdown",
   "metadata": {},
   "source": [
    "Дан поток дат в формате YYYY-MM-DD, в которых встречаются некорректные значения:\n",
    "stream = ['2018-04-02', '2018-02-29', '2018-19-02']\n",
    "\n",
    "Напишите функцию, которая проверяет эти даты на корректность. То есть для каждой даты возвращает True — дата корректна или False — некорректная."
   ]
  },
  {
   "cell_type": "code",
   "execution_count": null,
   "metadata": {},
   "outputs": [],
   "source": [
    "from datetime import datetime\n",
    "\n",
    "# Данные\n",
    "stream = ['2018-04-02', '2018-02-29', '2018-19-02']\n",
    "\n",
    "# Логика\n",
    "def validate_dates(date_stream):\n",
    "    results = []\n",
    "    for date_str in date_stream:\n",
    "        try:\n",
    "            # Попытка преобразовать строку в объект datetime\n",
    "            datetime.strptime(date_str, \"%Y-%m-%d\")\n",
    "            # Дата корректна\n",
    "            results.append(True)\n",
    "        except ValueError:\n",
    "            # Дата некорректна\n",
    "            results.append(False)\n",
    "    return results\n",
    "\n",
    "# Вызов\n",
    "validation_results = validate_dates(stream)\n",
    "print(validation_results)"
   ]
  },
  {
   "cell_type": "markdown",
   "metadata": {},
   "source": [
    "## Задание 3"
   ]
  },
  {
   "cell_type": "markdown",
   "metadata": {},
   "source": [
    "Напишите функцию date_range, которая возвращает список дат за период от start_date до end_date. Даты должны вводиться в формате YYYY-MM-DD. В случае неверного формата или при start_date > end_date должен возвращаться пустой список."
   ]
  },
  {
   "cell_type": "code",
   "execution_count": null,
   "metadata": {},
   "outputs": [],
   "source": [
    "from datetime import datetime, timedelta\n",
    "\n",
    "# Логика\n",
    "def date_range(start_date, end_date):\n",
    "    try:\n",
    "        # Преобразуем строки в объекты datetime\n",
    "        start = datetime.strptime(start_date, \"%Y-%m-%d\")\n",
    "        end = datetime.strptime(end_date, \"%Y-%m-%d\")\n",
    "        \n",
    "        # Проверяем, что start_date не больше end_date\n",
    "        if start > end:\n",
    "            return []\n",
    "        \n",
    "        # Генерируем список дат\n",
    "        delta = end - start\n",
    "        # нечитаемый List Comprehension\n",
    "        return [(start + timedelta(days=i)).strftime(\"%Y-%m-%d\") for i in range(delta.days + 1)]\n",
    "\n",
    "    except ValueError:\n",
    "        # Возвращаем пустой список в случае неверного формата\n",
    "        return []\n",
    "\n",
    "# Вызов\n",
    "# с корректными данными\n",
    "result = date_range('2022-01-01', '2022-01-05')\n",
    "print(result)\n",
    "\n",
    "# с некорректными датами\n",
    "result_invalid = date_range('2022-01-05', '2022-01-01')\n",
    "print(result_invalid)"
   ]
  },
  {
   "cell_type": "markdown",
   "metadata": {},
   "source": [
    "# Задание 4"
   ]
  },
  {
   "cell_type": "markdown",
   "metadata": {},
   "source": [
    "Ваш коллега прислал код функции:  \n",
    "\n",
    "```python\n",
    "DEFAULT_USER_COUNT = 3\n",
    "\n",
    "def delete_and_return_last_user(region, default_list=['A100', 'A101', 'A102']):\n",
    "\"\"\"\n",
    "Удаляет из списка default_list последнего пользователя\n",
    "и возвращает ID нового последнего пользователя.\n",
    "\"\"\"\n",
    "    element_to_delete = default_list[-1]\n",
    "    default_list.remove(element_to_delete)\n",
    "\n",
    "    return default_list[DEFAULT_USER_COUNT-2]\n",
    "```\n",
    "\n",
    "При однократном вызове этой функции всё работает корректно:  \n",
    "```python\n",
    "delete_and_return_last_user(1)\n",
    "```\n",
    "'A101'  \n",
    "\n",
    "Однако при повторном вызове получается ошибка IndexError: list index out of range.  \n",
    "\n",
    "Задание:  \n",
    "\n",
    "Что значит ошибка list index out of range?  \n",
    "Почему при первом запуске функция работает корректно, а при втором — нет?  "
   ]
  },
  {
   "cell_type": "markdown",
   "metadata": {},
   "source": [
    "#### Что значит ошибка list index out of range?\n",
    "\n",
    "Ошибка IndexError: list index out of range возникает, при попытке получить доступ к элементу списка по индексу, который выходит за пределы доступных индексов этого списка.  \n",
    "В Python индексы начинаются с 0, поэтому, если в списке три элемента, то допустимые индексы будут 0, 1 и 2.  \n",
    "Попытка доступа к элементу с индексом 3 вызовет эту ошибку.  "
   ]
  },
  {
   "cell_type": "markdown",
   "metadata": {},
   "source": [
    "#### Почему при первом запуске функция работает корректно, а при втором — нет?\n",
    "\n",
    "При первом вызове функции delete_and_return_last_user(1) список default_list содержит три элемента: ['A100', 'A101', 'A102'].  \n",
    "Когда функция удаляет последний элемент ('A102'), в списке остаются два элемента: ['A100', 'A101'].  \n",
    "Затем функция возвращает элемент с индексом DEFAULT_USER_COUNT - 2, что равно 3 - 2 = 1, то есть элемент с индексом 1, который равен 'A101'.  \n",
    "Но при повторном вызове функции, новый список не передается, а значит функция использует тот же список по умолчанию, который теперь содержит только два элемента: ['A100', 'A101'].  \n",
    "Когда функция снова пытается удалить последний элемент, она удаляет 'A101'.  \n",
    "И в списке остается только один элемент: ['A100']. При следующем обращении к элементу с индексом 1 (то есть DEFAULT_USER_COUNT - 2), возникает ошибка IndexError, так как в списке только один элемент с индексом 0.  "
   ]
  }
 ],
 "metadata": {
  "kernelspec": {
   "display_name": "Python 3",
   "language": "python",
   "name": "python3"
  },
  "language_info": {
   "codemirror_mode": {
    "name": "ipython",
    "version": 3
   },
   "file_extension": ".py",
   "mimetype": "text/x-python",
   "name": "python",
   "nbconvert_exporter": "python",
   "pygments_lexer": "ipython3",
   "version": "3.13.0"
  }
 },
 "nbformat": 4,
 "nbformat_minor": 2
}
