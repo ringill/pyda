{
 "cells": [
  {
   "cell_type": "markdown",
   "metadata": {},
   "source": [
    "# Задание 1\n",
    "\n",
    "Для датафрейма log из материалов занятия создайте столбец source_type по правилам:\n",
    "\n",
    "- если источник traffic_source равен Yandex или Google, то в source_type ставится organic;\n",
    "- для источников paid и email из России ставим ad;\n",
    "- для источников paid и email не из России ставим other;\n",
    "- все остальные варианты берём из traffic_source без изменений."
   ]
  },
  {
   "cell_type": "code",
   "execution_count": 3,
   "metadata": {},
   "outputs": [
    {
     "name": "stdout",
     "output_type": "stream",
     "text": [
      "        timestamp    visit_id                                 url   region  \\\n",
      "0      1549980692  e3b0c44298  https://host.ru/3c19b4ef7371864fa3   Russia   \n",
      "1      1549980704  6e340b9cff  https://host.ru/c8d9213a31839f9a3a   Russia   \n",
      "2      1549980715  96a296d224  https://host.ru/b8b58337d272ee7b15   Russia   \n",
      "3      1549980725  709e80c884  https://host.ru/b8b58337d272ee7b15   Russia   \n",
      "4      1549980736  df3f619804  https://host.ru/b8b58337d272ee7b15   Russia   \n",
      "...           ...         ...                                 ...      ...   \n",
      "18933  1550094288  57e5ba8560  https://host.ru/c2382eb3d6afc8d0f3  Belarus   \n",
      "18934  1550094296  6f9389ec1b  https://host.ru/f1eb4601740d627ab0   Russia   \n",
      "18935  1550094308  e8cf2eb8e6  https://host.ru/a5dda93e70318570c0  Belarus   \n",
      "18936  1550094314  79530b9a67  https://host.ru/6fda01ec57f23abc9e   Russia   \n",
      "18937  1550094323  b3b634f824  https://host.ru/39fa884393666d45fc   Russia   \n",
      "\n",
      "          user_id traffic_source source_type  \n",
      "0      b1613cc09f         yandex     organic  \n",
      "1      4c3ec14bee         direct      direct  \n",
      "2      a8c40697fb         yandex     organic  \n",
      "3      521ac1d6a0         yandex     organic  \n",
      "4      d7323c571c         yandex     organic  \n",
      "...           ...            ...         ...  \n",
      "18933  98b19810d0           paid       other  \n",
      "18934  32ebb20c13           paid          ad  \n",
      "18935  b85baa8c73         yandex     organic  \n",
      "18936  e154b06121           paid          ad  \n",
      "18937  7d27a58fb8          email          ad  \n",
      "\n",
      "[18938 rows x 7 columns]\n"
     ]
    }
   ],
   "source": [
    "import pandas as pd\n",
    "\n",
    "# Загрузка данных из visit_logs.csv\n",
    "visit_logs_df = pd.read_csv('visit_log.csv', sep=';')\n",
    "\n",
    "# Функция для определения типа источника\n",
    "def determine_source_type(row):\n",
    "    traffic_source = row['traffic_source'].lower()\n",
    "    region = row['region']\n",
    "\n",
    "    if traffic_source in ['yandex', 'google']:\n",
    "        return 'organic'\n",
    "    elif traffic_source in ['paid', 'email']:\n",
    "        if region == 'Russia':\n",
    "            return 'ad'\n",
    "        else:\n",
    "            return 'other'\n",
    "    else:\n",
    "        return traffic_source\n",
    "\n",
    "# Применение функции к DataFrame\n",
    "visit_logs_df['source_type'] = visit_logs_df.apply(determine_source_type, axis=1)\n",
    "\n",
    "# Вывод результата\n",
    "print(visit_logs_df)"
   ]
  },
  {
   "cell_type": "markdown",
   "metadata": {},
   "source": [
    "# Задание 2\n",
    "\n",
    "В файле URLs.txt содержатся URL страниц новостного сайта. Вам нужно отфильтровать его по адресам страниц с текстами новостей. Известно, что шаблон страницы новостей имеет внутри URL конструкцию: /, затем 8 цифр, затем дефис. Выполните действия:\n",
    "\n",
    "Прочитайте содержимое файла с датафрейм.\n",
    "Отфильтруйте страницы с текстом новостей, используя метод str.contains и регулярное выражение в соответствие с заданным шаблоном."
   ]
  },
  {
   "cell_type": "code",
   "execution_count": 4,
   "metadata": {},
   "outputs": [
    {
     "name": "stdout",
     "output_type": "stream",
     "text": [
      "                                                  url\n",
      "3   /politics/36188461-s-marta-zhizn-rossiyan-susc...\n",
      "4   /world/36007585-tramp-pridumal-kak-reshit-ukra...\n",
      "5   /science/36157853-nasa-sobiraet-ekstrennuyu-pr...\n",
      "6   /video/36001498-poyavilis-pervye-podrobnosti-g...\n",
      "7   /world/36007585-tramp-pridumal-kak-reshit-ukra...\n",
      "..                                                ...\n",
      "88  /cis/35984145-kreml-prokommentiroval-soobschen...\n",
      "89  /video/36071019-olimpiyskie-obekty-rio-prevrat...\n",
      "90  /science/36151301-nazvano-posledstvie-zloupotr...\n",
      "91  /incidents/36027330-vospitatelnitsu-zatravili-...\n",
      "92  /world/36103095-dominikanskih-zhurnalistov-ubi...\n",
      "\n",
      "[84 rows x 1 columns]\n"
     ]
    }
   ],
   "source": [
    "import pandas as pd\n",
    "\n",
    "# Чтение содержимого файла urls.txt как .csv, т.к. там по факту есть заголовок и одна колонка\n",
    "urls_df = pd.read_csv('URLs.txt')\n",
    "\n",
    "# Фильтрация страниц с текстами новостей\n",
    "# Регулярное выражение: /[0-9]{8}- для поиска 8 цифр после /\n",
    "news_urls_df = urls_df[urls_df['url'].str.contains(r'/[0-9]{8}-', regex=True)]\n",
    "\n",
    "# Вывод результата\n",
    "print(news_urls_df)"
   ]
  },
  {
   "cell_type": "markdown",
   "metadata": {},
   "source": [
    "# Задание 3\n",
    "\n",
    "Используйте файл с оценками фильмов ml-latest-small/ratings.csv. Посчитайте среднее время жизни пользователей, которые выставили более 100 оценок. Под временем жизни понимается разница между максимальным и минимальным значениями столбца timestamp для данного значения userId."
   ]
  },
  {
   "cell_type": "code",
   "execution_count": null,
   "metadata": {},
   "outputs": [
    {
     "name": "stdout",
     "output_type": "stream",
     "text": [
      "Среднее время жизни пользователей с более чем 100 оценками: 11.133474291559 часов\n"
     ]
    }
   ],
   "source": [
    "import pandas as pd\n",
    "\n",
    "# Загрузка данных из ratings.csv\n",
    "ratings_df = pd.read_csv('ratings.csv')\n",
    "\n",
    "# Группировка по userId и подсчет количества оценок\n",
    "user_rating_counts = ratings_df.groupby('userId').size()\n",
    "\n",
    "# Фильтрация пользователей с более чем 100 оценками\n",
    "active_users = user_rating_counts[user_rating_counts > 100].index\n",
    "\n",
    "# Получение данных только для активных пользователей\n",
    "active_users_df = ratings_df[ratings_df['userId'].isin(active_users)]\n",
    "\n",
    "# Подсчет минимального и максимального timestamp для каждого пользователя\n",
    "lifetime_df = active_users_df.groupby('userId')['timestamp'].agg(['min', 'max'])\n",
    "\n",
    "# Вычисление времени жизни для каждого пользователя\n",
    "lifetime_df['lifetime'] = lifetime_df['max'] - lifetime_df['min']\n",
    "\n",
    "# Вычисление среднего времени жизни\n",
    "average_lifetime = lifetime_df['lifetime'].mean()\n",
    "\n",
    "# Вывод результата; предполагаю, что у меня миллисекунды получились в average_lifetime\n",
    "print(f'Среднее время жизни пользователей с более чем 100 оценками: {average_lifetime/1000/60/60} часов')"
   ]
  },
  {
   "cell_type": "markdown",
   "metadata": {},
   "source": [
    "# Задание 4\n",
    "\n",
    "Дана статистика услуг перевозок клиентов компании по типам:\n",
    "- rzd - железнодорожные перевозки\n",
    "- auto - автомобильные перевозки\n",
    "- air - воздушные перевозки\n",
    "- client_base - адреса клиентов\n",
    "\n",
    "Нужно сформировать две таблицы:\n",
    "- таблицу с тремя типами выручки для каждого client_id без указания адреса клиента;\n",
    "- аналогичную таблицу по типам выручки с указанием адреса клиента.\n"
   ]
  },
  {
   "cell_type": "code",
   "execution_count": null,
   "metadata": {},
   "outputs": [
    {
     "name": "stdout",
     "output_type": "stream",
     "text": [
      "Таблица с выручкой без адреса:\n",
      "   client_id  rzd_revenue  auto_revenue  air_revenue\n",
      "0        111       1093.0           NaN          NaN\n",
      "1        112       2810.0           NaN          NaN\n",
      "2        113      10283.0       57483.0          NaN\n",
      "3        114       5774.0          83.0          NaN\n",
      "4        115        981.0         912.0         81.0\n",
      "5        116          NaN        4834.0          4.0\n",
      "6        117          NaN          98.0         13.0\n",
      "7        118          NaN           NaN        173.0\n",
      "\n",
      "Таблица с выручкой с адресом:\n",
      "   client_id  rzd_revenue  auto_revenue  air_revenue          address\n",
      "0        111       1093.0           NaN          NaN  Комсомольская 4\n",
      "1        112       2810.0           NaN          NaN   Энтузиастов 8а\n",
      "2        113      10283.0       57483.0          NaN  Левобережная 1а\n",
      "3        114       5774.0          83.0          NaN          Мира 14\n",
      "4        115        981.0         912.0         81.0        ЗЖБИиДК 1\n",
      "5        116          NaN        4834.0          4.0    Строителей 18\n",
      "6        117          NaN          98.0         13.0  Панфиловская 33\n",
      "7        118          NaN           NaN        173.0     Мастеркова 4\n"
     ]
    }
   ],
   "source": [
    "import pandas as pd\n",
    "\n",
    "# Данные по типам перевозок\n",
    "rzd = pd.DataFrame(\n",
    "    {\n",
    "        'client_id': [111, 112, 113, 114, 115],\n",
    "        'rzd_revenue': [1093, 2810, 10283, 5774, 981]\n",
    "    }\n",
    ")\n",
    "\n",
    "auto = pd.DataFrame(\n",
    "    {\n",
    "        'client_id': [113, 114, 115, 116, 117],\n",
    "        'auto_revenue': [57483, 83, 912, 4834, 98]\n",
    "    }\n",
    ")\n",
    "\n",
    "air = pd.DataFrame(\n",
    "    {\n",
    "        'client_id': [115, 116, 117, 118],\n",
    "        'air_revenue': [81, 4, 13, 173]\n",
    "    }\n",
    ")\n",
    "\n",
    "client_base = pd.DataFrame(\n",
    "    {\n",
    "        'client_id': [111, 112, 113, 114, 115, 116, 117, 118],\n",
    "        'address': ['Комсомольская 4', 'Энтузиастов 8а', 'Левобережная 1а', 'Мира 14', 'ЗЖБИиДК 1',\n",
    "                    'Строителей 18', 'Панфиловская 33', 'Мастеркова 4']\n",
    "    }\n",
    ")\n",
    "\n",
    "# Объединение таблиц по client_id без потери данных\n",
    "merged_revenue = rzd.merge(auto, on='client_id', how='outer').merge(air, on='client_id', how='outer')\n",
    "\n",
    "# Таблица с выручкой без адреса\n",
    "print(\"Таблица с выручкой без адреса:\")\n",
    "print(merged_revenue)\n",
    "\n",
    "# Объединение с адресами клиентов\n",
    "merged_with_addresses = merged_revenue.merge(client_base, on='client_id', how='outer')\n",
    "\n",
    "# Таблица с выручкой с адресом\n",
    "print(\"\\nТаблица с выручкой с адресом:\")\n",
    "print(merged_with_addresses)\n"
   ]
  }
 ],
 "metadata": {
  "kernelspec": {
   "display_name": "Python 3",
   "language": "python",
   "name": "python3"
  },
  "language_info": {
   "codemirror_mode": {
    "name": "ipython",
    "version": 3
   },
   "file_extension": ".py",
   "mimetype": "text/x-python",
   "name": "python",
   "nbconvert_exporter": "python",
   "pygments_lexer": "ipython3",
   "version": "3.13.0"
  }
 },
 "nbformat": 4,
 "nbformat_minor": 2
}
