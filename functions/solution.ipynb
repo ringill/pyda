{
 "cells": [
  {
   "cell_type": "markdown",
   "metadata": {},
   "source": [
    "# Задание 1\n",
    "\n",
    "Напишите функцию, которая классифицирует фильмы из материалов занятия по правилам:\n",
    "\n",
    "оценка 2 и ниже — низкий рейтинг;\n",
    "оценка 4 и ниже — средний рейтинг;\n",
    "оценка 4.5 и 5 — высокий рейтинг.\n",
    "\n",
    "Результат классификации запишите в столбец class."
   ]
  },
  {
   "cell_type": "code",
   "execution_count": null,
   "metadata": {},
   "outputs": [
    {
     "name": "stdout",
     "output_type": "stream",
     "text": [
      "                                                  title            class\n",
      "0                                      Toy Story (1995)  средний рейтинг\n",
      "1                                        Jumanji (1995)  средний рейтинг\n",
      "2                               Grumpier Old Men (1995)  средний рейтинг\n",
      "3                              Waiting to Exhale (1995)  средний рейтинг\n",
      "4                    Father of the Bride Part II (1995)  средний рейтинг\n",
      "...                                                 ...              ...\n",
      "9120                                Mohenjo Daro (2016)  средний рейтинг\n",
      "9121                               Shin Godzilla (2016)              NaN\n",
      "9122  The Beatles: Eight Days a Week - The Touring Y...  высокий рейтинг\n",
      "9123                           The Gay Desperado (1936)              NaN\n",
      "9124                              Women of '69, Unboxed              NaN\n",
      "\n",
      "[9125 rows x 2 columns]\n"
     ]
    }
   ],
   "source": [
    "import pandas as pd\n",
    "\n",
    "# Загрузка данных\n",
    "movies_df = pd.read_csv('movies.csv')\n",
    "ratings_df = pd.read_csv('ratings.csv')\n",
    "\n",
    "# Группировка по movieId и вычисление среднего значения rating\n",
    "average_rating_df = ratings_df.groupby('movieId', as_index=False)['rating'].mean()\n",
    "# Переименование столбца для ясности\n",
    "average_rating_df.rename(columns={'rating': 'average_rating'}, inplace=True)\n",
    "\n",
    "# Искомая функция, о которой говорится в задании\n",
    "def classify_rating(row):\n",
    "    if row['average_rating'] <= 2:\n",
    "        return 'низкий рейтинг'\n",
    "    elif row['average_rating'] <= 4:\n",
    "        return 'средний рейтинг'\n",
    "    elif row['average_rating'] > 4:\n",
    "        return 'высокий рейтинг'\n",
    "\n",
    "# Применение функции к DataFrame\n",
    "average_rating_df['class'] = average_rating_df.apply(classify_rating, axis=1)\n",
    "\n",
    "# Если по каким-то фильмам из файла movies.csv у нас не оказалось информации о рейтинге из файла ratings.csv,\n",
    "# то извините - будет NaN.\n",
    "merged_df = movies_df.merge(average_rating_df, on='movieId', how='left')\n",
    "# Оставляем только столбцы title и class\n",
    "filtered_df = merged_df[['title', 'class']]\n",
    "\n",
    "# выводим результат\n",
    "print(filtered_df)\n",
    "\n"
   ]
  },
  {
   "cell_type": "markdown",
   "metadata": {},
   "source": [
    "# Задание 2\n",
    "\n",
    "Нужно написать гео-классификатор, который каждой строке сможет выставить географическую принадлежность определённому региону. Т. е. если поисковый запрос содержит название города региона, то в столбце ‘region’ пишется название этого региона. Если поисковый запрос не содержит названия города, то ставим ‘undefined’.\n",
    "\n",
    "Правила распределения по регионам Центр, Северо-Запад и Дальний Восток:\n",
    "\n",
    "geo_data = {\n",
    "'Центр': ['москва', 'тула', 'ярославль'],\n",
    "'Северо-Запад': ['петербург', 'псков', 'мурманск'],\n",
    "'Дальний Восток': ['владивосток', 'сахалин', 'хабаровск']\n",
    "}\n",
    "\n",
    "Результат классификации запишите в отдельный столбец region."
   ]
  },
  {
   "cell_type": "code",
   "execution_count": 2,
   "metadata": {},
   "outputs": [
    {
     "name": "stdout",
     "output_type": "stream",
     "text": [
      "Все результаты\n",
      "                       keyword     shows     region\n",
      "0                           вк  64292779  undefined\n",
      "1                одноклассники  63810309  undefined\n",
      "2                        порно  41747114  undefined\n",
      "3                         ютуб  39995567  undefined\n",
      "4                    вконтакте  21014195  undefined\n",
      "...                        ...       ...        ...\n",
      "99995   эльдорадо старый оскол      3705  undefined\n",
      "99996      frigate для firefox      3630  undefined\n",
      "99997                   укрсиб      3630  undefined\n",
      "99998  погода в ялте на неделю      3688  undefined\n",
      "99999                     ггму      3630  undefined\n",
      "\n",
      "[100000 rows x 3 columns]\n",
      "Непустые результаты\n",
      "                                     keyword   shows          region\n",
      "127                             авито москва  979292           Центр\n",
      "370                 авито ру санкт петербург  425134    Северо-Запад\n",
      "564                погода в санкт петербурге  292489    Северо-Запад\n",
      "849                          авито ярославль  209581           Центр\n",
      "1063                     фарпост владивосток  176951  Дальний Восток\n",
      "...                                      ...     ...             ...\n",
      "99590  авито ярославль автомобили с пробегом    3673           Центр\n",
      "99634   северпост новости мурманской области    3606    Северо-Запад\n",
      "99808      полармед мурманск запись на прием    3719    Северо-Запад\n",
      "99890                    яндекс метро москва    4548           Центр\n",
      "99922                      авто ру ярославль    3712           Центр\n",
      "\n",
      "[747 rows x 3 columns]\n"
     ]
    }
   ],
   "source": [
    "import pandas as pd\n",
    "\n",
    "# Загрузка данных из keywords.csv\n",
    "keywords_df = pd.read_csv('keywords.csv')\n",
    "\n",
    "# Правила распределения по регионам Центр, Северо-Запад и Дальний Восток\n",
    "geo_data = {\n",
    "    'Центр': ['москва', 'тула', 'ярославль'],\n",
    "    'Северо-Запад': ['петербург', 'псков', 'мурманск'],\n",
    "    'Дальний Восток': ['владивосток', 'сахалин', 'хабаровск']\n",
    "}\n",
    "\n",
    "# Функция определения города к региону\n",
    "def classify_region(keyword):\n",
    "    # Приводим ключевое слово к нижнему регистру для сравнения\n",
    "    keyword_lower = keyword.lower()\n",
    "    for region, cities in geo_data.items():\n",
    "        for city in cities:\n",
    "            if city in keyword_lower:\n",
    "                return region\n",
    "    return 'undefined'\n",
    "\n",
    "# Применение функции к DataFrame\n",
    "keywords_df['region'] = keywords_df['keyword'].apply(classify_region)\n",
    "\n",
    "# Вывод результатов\n",
    "print('Все результаты')\n",
    "print(keywords_df)\n",
    "\n",
    "print('Непустые результаты')\n",
    "# Фильтрация DataFrame для получения строк с определенными регионами\n",
    "defined_region_df = keywords_df[keywords_df['region'] != 'undefined']\n",
    "print(defined_region_df)"
   ]
  }
 ],
 "metadata": {
  "kernelspec": {
   "display_name": "Python 3",
   "language": "python",
   "name": "python3"
  },
  "language_info": {
   "codemirror_mode": {
    "name": "ipython",
    "version": 3
   },
   "file_extension": ".py",
   "mimetype": "text/x-python",
   "name": "python",
   "nbconvert_exporter": "python",
   "pygments_lexer": "ipython3",
   "version": "3.13.0"
  }
 },
 "nbformat": 4,
 "nbformat_minor": 2
}
