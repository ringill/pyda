{
 "cells": [
  {
   "cell_type": "markdown",
   "metadata": {},
   "source": [
    "## Задание к итоговому проекту по курсу \"Python для анализа данных\"\n",
    "\n",
    "Дан файл HR.csv с данными по опросу уровня удовлетворенности сотрудниками работой\n",
    "https://drive.google.com/file/d/1INgo03nal-vwFJe7Lec5vOUtOwfJdUr1/view?usp=sharing"
   ]
  },
  {
   "cell_type": "markdown",
   "metadata": {},
   "source": [
    "### Описание данных"
   ]
  },
  {
   "cell_type": "code",
   "execution_count": 74,
   "metadata": {},
   "outputs": [],
   "source": [
    "import pandas as pd\n",
    "import seaborn as sns\n",
    "import matplotlib.pyplot as plt\n",
    "from scipy import stats\n",
    "import numpy as np\n",
    "from sklearn.model_selection import train_test_split\n",
    "from sklearn.discriminant_analysis import LinearDiscriminantAnalysis\n",
    "from sklearn.metrics import accuracy_score, classification_report, confusion_matrix\n",
    "\n",
    "description = {\n",
    "  'satisfaction_level': { 'title': 'Уровень удовлетворенности работой', 'is_category': False },\n",
    "  'Last_evaluation': { 'title': 'Время с момента последней оценки в годах', 'is_category': False },\n",
    "  'number_projects': { 'title': 'Количество проектов, выполненных за время работы', 'is_category': False },\n",
    "  'average_monthly_hours': { 'title': 'Среднее количество часов на рабочем месте в месяц', 'is_category': False },\n",
    "  'time_spend_company': { 'title': 'Стаж работы в компании в годах', 'is_category': False },\n",
    "  'Work_accident': { 'title': 'Происходили ли несчастные случаи на рабочем месте с сотрудником', 'is_category': False },\n",
    "  'left': { 'title': 'уволился ли сотрудник', 'is_category': False },\n",
    "  'promotion_last_5years': { 'title': 'повышался ли сотрудник за последние пять лет', 'is_category': False },\n",
    "  'department': { 'title': 'отдел в котором работает сотрудник', 'is_category': True },\n",
    "  'salary': { 'title': 'относительный уровень зарплаты', 'is_category': True }\n",
    "}"
   ]
  },
  {
   "cell_type": "markdown",
   "metadata": {},
   "source": [
    "### Задание 1\n",
    "Загрузите файл HR.csv в pandas dataframe"
   ]
  },
  {
   "cell_type": "code",
   "execution_count": 8,
   "metadata": {},
   "outputs": [],
   "source": [
    "df = pd.read_csv('HR.csv', dtype={8: 'string', 9: 'string'})"
   ]
  },
  {
   "cell_type": "markdown",
   "metadata": {},
   "source": [
    "### Подготовка данных\n",
    "Пощупаем, что за данные нам достались"
   ]
  },
  {
   "cell_type": "code",
   "execution_count": 9,
   "metadata": {},
   "outputs": [
    {
     "data": {
      "application/vnd.microsoft.datawrangler.viewer.v0+json": {
       "columns": [
        {
         "name": "index",
         "rawType": "int64",
         "type": "integer"
        },
        {
         "name": "satisfaction_level",
         "rawType": "float64",
         "type": "float"
        },
        {
         "name": "last_evaluation",
         "rawType": "float64",
         "type": "float"
        },
        {
         "name": "number_project",
         "rawType": "int64",
         "type": "integer"
        },
        {
         "name": "average_montly_hours",
         "rawType": "int64",
         "type": "integer"
        },
        {
         "name": "time_spend_company",
         "rawType": "int64",
         "type": "integer"
        },
        {
         "name": "Work_accident",
         "rawType": "int64",
         "type": "integer"
        },
        {
         "name": "left",
         "rawType": "int64",
         "type": "integer"
        },
        {
         "name": "promotion_last_5years",
         "rawType": "int64",
         "type": "integer"
        },
        {
         "name": "department",
         "rawType": "string",
         "type": "string"
        },
        {
         "name": "salary",
         "rawType": "string",
         "type": "string"
        }
       ],
       "conversionMethod": "pd.DataFrame",
       "ref": "a09214b6-e41a-4a60-a3be-bfe620289893",
       "rows": [
        [
         "0",
         "0.38",
         "0.53",
         "2",
         "157",
         "3",
         "0",
         "1",
         "0",
         "sales",
         "low"
        ],
        [
         "1",
         "0.8",
         "0.86",
         "5",
         "262",
         "6",
         "0",
         "1",
         "0",
         "sales",
         "medium"
        ],
        [
         "2",
         "0.11",
         "0.88",
         "7",
         "272",
         "4",
         "0",
         "1",
         "0",
         "sales",
         "medium"
        ],
        [
         "3",
         "0.72",
         "0.87",
         "5",
         "223",
         "5",
         "0",
         "1",
         "0",
         "sales",
         "low"
        ],
        [
         "4",
         "0.37",
         "0.52",
         "2",
         "159",
         "3",
         "0",
         "1",
         "0",
         "sales",
         "low"
        ]
       ],
       "shape": {
        "columns": 10,
        "rows": 5
       }
      },
      "text/html": [
       "<div>\n",
       "<style scoped>\n",
       "    .dataframe tbody tr th:only-of-type {\n",
       "        vertical-align: middle;\n",
       "    }\n",
       "\n",
       "    .dataframe tbody tr th {\n",
       "        vertical-align: top;\n",
       "    }\n",
       "\n",
       "    .dataframe thead th {\n",
       "        text-align: right;\n",
       "    }\n",
       "</style>\n",
       "<table border=\"1\" class=\"dataframe\">\n",
       "  <thead>\n",
       "    <tr style=\"text-align: right;\">\n",
       "      <th></th>\n",
       "      <th>satisfaction_level</th>\n",
       "      <th>last_evaluation</th>\n",
       "      <th>number_project</th>\n",
       "      <th>average_montly_hours</th>\n",
       "      <th>time_spend_company</th>\n",
       "      <th>Work_accident</th>\n",
       "      <th>left</th>\n",
       "      <th>promotion_last_5years</th>\n",
       "      <th>department</th>\n",
       "      <th>salary</th>\n",
       "    </tr>\n",
       "  </thead>\n",
       "  <tbody>\n",
       "    <tr>\n",
       "      <th>0</th>\n",
       "      <td>0.38</td>\n",
       "      <td>0.53</td>\n",
       "      <td>2</td>\n",
       "      <td>157</td>\n",
       "      <td>3</td>\n",
       "      <td>0</td>\n",
       "      <td>1</td>\n",
       "      <td>0</td>\n",
       "      <td>sales</td>\n",
       "      <td>low</td>\n",
       "    </tr>\n",
       "    <tr>\n",
       "      <th>1</th>\n",
       "      <td>0.80</td>\n",
       "      <td>0.86</td>\n",
       "      <td>5</td>\n",
       "      <td>262</td>\n",
       "      <td>6</td>\n",
       "      <td>0</td>\n",
       "      <td>1</td>\n",
       "      <td>0</td>\n",
       "      <td>sales</td>\n",
       "      <td>medium</td>\n",
       "    </tr>\n",
       "    <tr>\n",
       "      <th>2</th>\n",
       "      <td>0.11</td>\n",
       "      <td>0.88</td>\n",
       "      <td>7</td>\n",
       "      <td>272</td>\n",
       "      <td>4</td>\n",
       "      <td>0</td>\n",
       "      <td>1</td>\n",
       "      <td>0</td>\n",
       "      <td>sales</td>\n",
       "      <td>medium</td>\n",
       "    </tr>\n",
       "    <tr>\n",
       "      <th>3</th>\n",
       "      <td>0.72</td>\n",
       "      <td>0.87</td>\n",
       "      <td>5</td>\n",
       "      <td>223</td>\n",
       "      <td>5</td>\n",
       "      <td>0</td>\n",
       "      <td>1</td>\n",
       "      <td>0</td>\n",
       "      <td>sales</td>\n",
       "      <td>low</td>\n",
       "    </tr>\n",
       "    <tr>\n",
       "      <th>4</th>\n",
       "      <td>0.37</td>\n",
       "      <td>0.52</td>\n",
       "      <td>2</td>\n",
       "      <td>159</td>\n",
       "      <td>3</td>\n",
       "      <td>0</td>\n",
       "      <td>1</td>\n",
       "      <td>0</td>\n",
       "      <td>sales</td>\n",
       "      <td>low</td>\n",
       "    </tr>\n",
       "  </tbody>\n",
       "</table>\n",
       "</div>"
      ],
      "text/plain": [
       "   satisfaction_level  last_evaluation  number_project  average_montly_hours  \\\n",
       "0                0.38             0.53               2                   157   \n",
       "1                0.80             0.86               5                   262   \n",
       "2                0.11             0.88               7                   272   \n",
       "3                0.72             0.87               5                   223   \n",
       "4                0.37             0.52               2                   159   \n",
       "\n",
       "   time_spend_company  Work_accident  left  promotion_last_5years department  \\\n",
       "0                   3              0     1                      0      sales   \n",
       "1                   6              0     1                      0      sales   \n",
       "2                   4              0     1                      0      sales   \n",
       "3                   5              0     1                      0      sales   \n",
       "4                   3              0     1                      0      sales   \n",
       "\n",
       "   salary  \n",
       "0     low  \n",
       "1  medium  \n",
       "2  medium  \n",
       "3     low  \n",
       "4     low  "
      ]
     },
     "execution_count": 9,
     "metadata": {},
     "output_type": "execute_result"
    }
   ],
   "source": [
    "df.head()"
   ]
  },
  {
   "cell_type": "code",
   "execution_count": 10,
   "metadata": {},
   "outputs": [
    {
     "name": "stdout",
     "output_type": "stream",
     "text": [
      "<class 'pandas.core.frame.DataFrame'>\n",
      "RangeIndex: 14999 entries, 0 to 14998\n",
      "Data columns (total 10 columns):\n",
      " #   Column                 Non-Null Count  Dtype  \n",
      "---  ------                 --------------  -----  \n",
      " 0   satisfaction_level     14999 non-null  float64\n",
      " 1   last_evaluation        14999 non-null  float64\n",
      " 2   number_project         14999 non-null  int64  \n",
      " 3   average_montly_hours   14999 non-null  int64  \n",
      " 4   time_spend_company     14999 non-null  int64  \n",
      " 5   Work_accident          14999 non-null  int64  \n",
      " 6   left                   14999 non-null  int64  \n",
      " 7   promotion_last_5years  14999 non-null  int64  \n",
      " 8   department             14999 non-null  string \n",
      " 9   salary                 14999 non-null  string \n",
      "dtypes: float64(2), int64(6), string(2)\n",
      "memory usage: 1.1 MB\n"
     ]
    }
   ],
   "source": [
    "df.info()"
   ]
  },
  {
   "cell_type": "code",
   "execution_count": 12,
   "metadata": {},
   "outputs": [
    {
     "data": {
      "application/vnd.microsoft.datawrangler.viewer.v0+json": {
       "columns": [
        {
         "name": "index",
         "rawType": "object",
         "type": "string"
        },
        {
         "name": "satisfaction_level",
         "rawType": "float64",
         "type": "float"
        },
        {
         "name": "last_evaluation",
         "rawType": "float64",
         "type": "float"
        },
        {
         "name": "number_project",
         "rawType": "float64",
         "type": "float"
        },
        {
         "name": "average_montly_hours",
         "rawType": "float64",
         "type": "float"
        },
        {
         "name": "time_spend_company",
         "rawType": "float64",
         "type": "float"
        },
        {
         "name": "Work_accident",
         "rawType": "float64",
         "type": "float"
        },
        {
         "name": "left",
         "rawType": "float64",
         "type": "float"
        },
        {
         "name": "promotion_last_5years",
         "rawType": "float64",
         "type": "float"
        },
        {
         "name": "department",
         "rawType": "object",
         "type": "unknown"
        },
        {
         "name": "salary",
         "rawType": "object",
         "type": "unknown"
        }
       ],
       "conversionMethod": "pd.DataFrame",
       "ref": "435f5505-a5b8-4343-9e78-f9c359fdd8e7",
       "rows": [
        [
         "count",
         "14999.0",
         "14999.0",
         "14999.0",
         "14999.0",
         "14999.0",
         "14999.0",
         "14999.0",
         "14999.0",
         "14999",
         "14999"
        ],
        [
         "unique",
         null,
         null,
         null,
         null,
         null,
         null,
         null,
         null,
         "10",
         "3"
        ],
        [
         "top",
         null,
         null,
         null,
         null,
         null,
         null,
         null,
         null,
         "sales",
         "low"
        ],
        [
         "freq",
         null,
         null,
         null,
         null,
         null,
         null,
         null,
         null,
         "4140",
         "7316"
        ],
        [
         "mean",
         "0.6128335222348156",
         "0.7161017401160078",
         "3.80305353690246",
         "201.0503366891126",
         "3.498233215547703",
         "0.1446096406427095",
         "0.2380825388359224",
         "0.021268084538969265",
         null,
         null
        ],
        [
         "std",
         "0.24863065106114257",
         "0.17116911062327533",
         "1.2325923553183522",
         "49.94309937128408",
         "1.4601362305354812",
         "0.35171855238017985",
         "0.4259240993802994",
         "0.14428146457858232",
         null,
         null
        ],
        [
         "min",
         "0.09",
         "0.36",
         "2.0",
         "96.0",
         "2.0",
         "0.0",
         "0.0",
         "0.0",
         null,
         null
        ],
        [
         "25%",
         "0.44",
         "0.56",
         "3.0",
         "156.0",
         "3.0",
         "0.0",
         "0.0",
         "0.0",
         null,
         null
        ],
        [
         "50%",
         "0.64",
         "0.72",
         "4.0",
         "200.0",
         "3.0",
         "0.0",
         "0.0",
         "0.0",
         null,
         null
        ],
        [
         "75%",
         "0.82",
         "0.87",
         "5.0",
         "245.0",
         "4.0",
         "0.0",
         "0.0",
         "0.0",
         null,
         null
        ],
        [
         "max",
         "1.0",
         "1.0",
         "7.0",
         "310.0",
         "10.0",
         "1.0",
         "1.0",
         "1.0",
         null,
         null
        ]
       ],
       "shape": {
        "columns": 10,
        "rows": 11
       }
      },
      "text/html": [
       "<div>\n",
       "<style scoped>\n",
       "    .dataframe tbody tr th:only-of-type {\n",
       "        vertical-align: middle;\n",
       "    }\n",
       "\n",
       "    .dataframe tbody tr th {\n",
       "        vertical-align: top;\n",
       "    }\n",
       "\n",
       "    .dataframe thead th {\n",
       "        text-align: right;\n",
       "    }\n",
       "</style>\n",
       "<table border=\"1\" class=\"dataframe\">\n",
       "  <thead>\n",
       "    <tr style=\"text-align: right;\">\n",
       "      <th></th>\n",
       "      <th>satisfaction_level</th>\n",
       "      <th>last_evaluation</th>\n",
       "      <th>number_project</th>\n",
       "      <th>average_montly_hours</th>\n",
       "      <th>time_spend_company</th>\n",
       "      <th>Work_accident</th>\n",
       "      <th>left</th>\n",
       "      <th>promotion_last_5years</th>\n",
       "      <th>department</th>\n",
       "      <th>salary</th>\n",
       "    </tr>\n",
       "  </thead>\n",
       "  <tbody>\n",
       "    <tr>\n",
       "      <th>count</th>\n",
       "      <td>14999.000000</td>\n",
       "      <td>14999.000000</td>\n",
       "      <td>14999.000000</td>\n",
       "      <td>14999.000000</td>\n",
       "      <td>14999.000000</td>\n",
       "      <td>14999.000000</td>\n",
       "      <td>14999.000000</td>\n",
       "      <td>14999.000000</td>\n",
       "      <td>14999</td>\n",
       "      <td>14999</td>\n",
       "    </tr>\n",
       "    <tr>\n",
       "      <th>unique</th>\n",
       "      <td>NaN</td>\n",
       "      <td>NaN</td>\n",
       "      <td>NaN</td>\n",
       "      <td>NaN</td>\n",
       "      <td>NaN</td>\n",
       "      <td>NaN</td>\n",
       "      <td>NaN</td>\n",
       "      <td>NaN</td>\n",
       "      <td>10</td>\n",
       "      <td>3</td>\n",
       "    </tr>\n",
       "    <tr>\n",
       "      <th>top</th>\n",
       "      <td>NaN</td>\n",
       "      <td>NaN</td>\n",
       "      <td>NaN</td>\n",
       "      <td>NaN</td>\n",
       "      <td>NaN</td>\n",
       "      <td>NaN</td>\n",
       "      <td>NaN</td>\n",
       "      <td>NaN</td>\n",
       "      <td>sales</td>\n",
       "      <td>low</td>\n",
       "    </tr>\n",
       "    <tr>\n",
       "      <th>freq</th>\n",
       "      <td>NaN</td>\n",
       "      <td>NaN</td>\n",
       "      <td>NaN</td>\n",
       "      <td>NaN</td>\n",
       "      <td>NaN</td>\n",
       "      <td>NaN</td>\n",
       "      <td>NaN</td>\n",
       "      <td>NaN</td>\n",
       "      <td>4140</td>\n",
       "      <td>7316</td>\n",
       "    </tr>\n",
       "    <tr>\n",
       "      <th>mean</th>\n",
       "      <td>0.612834</td>\n",
       "      <td>0.716102</td>\n",
       "      <td>3.803054</td>\n",
       "      <td>201.050337</td>\n",
       "      <td>3.498233</td>\n",
       "      <td>0.144610</td>\n",
       "      <td>0.238083</td>\n",
       "      <td>0.021268</td>\n",
       "      <td>NaN</td>\n",
       "      <td>NaN</td>\n",
       "    </tr>\n",
       "    <tr>\n",
       "      <th>std</th>\n",
       "      <td>0.248631</td>\n",
       "      <td>0.171169</td>\n",
       "      <td>1.232592</td>\n",
       "      <td>49.943099</td>\n",
       "      <td>1.460136</td>\n",
       "      <td>0.351719</td>\n",
       "      <td>0.425924</td>\n",
       "      <td>0.144281</td>\n",
       "      <td>NaN</td>\n",
       "      <td>NaN</td>\n",
       "    </tr>\n",
       "    <tr>\n",
       "      <th>min</th>\n",
       "      <td>0.090000</td>\n",
       "      <td>0.360000</td>\n",
       "      <td>2.000000</td>\n",
       "      <td>96.000000</td>\n",
       "      <td>2.000000</td>\n",
       "      <td>0.000000</td>\n",
       "      <td>0.000000</td>\n",
       "      <td>0.000000</td>\n",
       "      <td>NaN</td>\n",
       "      <td>NaN</td>\n",
       "    </tr>\n",
       "    <tr>\n",
       "      <th>25%</th>\n",
       "      <td>0.440000</td>\n",
       "      <td>0.560000</td>\n",
       "      <td>3.000000</td>\n",
       "      <td>156.000000</td>\n",
       "      <td>3.000000</td>\n",
       "      <td>0.000000</td>\n",
       "      <td>0.000000</td>\n",
       "      <td>0.000000</td>\n",
       "      <td>NaN</td>\n",
       "      <td>NaN</td>\n",
       "    </tr>\n",
       "    <tr>\n",
       "      <th>50%</th>\n",
       "      <td>0.640000</td>\n",
       "      <td>0.720000</td>\n",
       "      <td>4.000000</td>\n",
       "      <td>200.000000</td>\n",
       "      <td>3.000000</td>\n",
       "      <td>0.000000</td>\n",
       "      <td>0.000000</td>\n",
       "      <td>0.000000</td>\n",
       "      <td>NaN</td>\n",
       "      <td>NaN</td>\n",
       "    </tr>\n",
       "    <tr>\n",
       "      <th>75%</th>\n",
       "      <td>0.820000</td>\n",
       "      <td>0.870000</td>\n",
       "      <td>5.000000</td>\n",
       "      <td>245.000000</td>\n",
       "      <td>4.000000</td>\n",
       "      <td>0.000000</td>\n",
       "      <td>0.000000</td>\n",
       "      <td>0.000000</td>\n",
       "      <td>NaN</td>\n",
       "      <td>NaN</td>\n",
       "    </tr>\n",
       "    <tr>\n",
       "      <th>max</th>\n",
       "      <td>1.000000</td>\n",
       "      <td>1.000000</td>\n",
       "      <td>7.000000</td>\n",
       "      <td>310.000000</td>\n",
       "      <td>10.000000</td>\n",
       "      <td>1.000000</td>\n",
       "      <td>1.000000</td>\n",
       "      <td>1.000000</td>\n",
       "      <td>NaN</td>\n",
       "      <td>NaN</td>\n",
       "    </tr>\n",
       "  </tbody>\n",
       "</table>\n",
       "</div>"
      ],
      "text/plain": [
       "        satisfaction_level  last_evaluation  number_project  \\\n",
       "count         14999.000000     14999.000000    14999.000000   \n",
       "unique                 NaN              NaN             NaN   \n",
       "top                    NaN              NaN             NaN   \n",
       "freq                   NaN              NaN             NaN   \n",
       "mean              0.612834         0.716102        3.803054   \n",
       "std               0.248631         0.171169        1.232592   \n",
       "min               0.090000         0.360000        2.000000   \n",
       "25%               0.440000         0.560000        3.000000   \n",
       "50%               0.640000         0.720000        4.000000   \n",
       "75%               0.820000         0.870000        5.000000   \n",
       "max               1.000000         1.000000        7.000000   \n",
       "\n",
       "        average_montly_hours  time_spend_company  Work_accident          left  \\\n",
       "count           14999.000000        14999.000000   14999.000000  14999.000000   \n",
       "unique                   NaN                 NaN            NaN           NaN   \n",
       "top                      NaN                 NaN            NaN           NaN   \n",
       "freq                     NaN                 NaN            NaN           NaN   \n",
       "mean              201.050337            3.498233       0.144610      0.238083   \n",
       "std                49.943099            1.460136       0.351719      0.425924   \n",
       "min                96.000000            2.000000       0.000000      0.000000   \n",
       "25%               156.000000            3.000000       0.000000      0.000000   \n",
       "50%               200.000000            3.000000       0.000000      0.000000   \n",
       "75%               245.000000            4.000000       0.000000      0.000000   \n",
       "max               310.000000           10.000000       1.000000      1.000000   \n",
       "\n",
       "        promotion_last_5years department salary  \n",
       "count            14999.000000      14999  14999  \n",
       "unique                    NaN         10      3  \n",
       "top                       NaN      sales    low  \n",
       "freq                      NaN       4140   7316  \n",
       "mean                 0.021268        NaN    NaN  \n",
       "std                  0.144281        NaN    NaN  \n",
       "min                  0.000000        NaN    NaN  \n",
       "25%                  0.000000        NaN    NaN  \n",
       "50%                  0.000000        NaN    NaN  \n",
       "75%                  0.000000        NaN    NaN  \n",
       "max                  1.000000        NaN    NaN  "
      ]
     },
     "execution_count": 12,
     "metadata": {},
     "output_type": "execute_result"
    }
   ],
   "source": [
    "df.describe(include='all')"
   ]
  },
  {
   "cell_type": "code",
   "execution_count": null,
   "metadata": {},
   "outputs": [
    {
     "data": {
      "text/plain": [
       "satisfaction_level       0\n",
       "last_evaluation          0\n",
       "number_project           0\n",
       "average_montly_hours     0\n",
       "time_spend_company       0\n",
       "Work_accident            0\n",
       "left                     0\n",
       "promotion_last_5years    0\n",
       "department               0\n",
       "salary                   0\n",
       "dtype: int64"
      ]
     },
     "execution_count": 13,
     "metadata": {},
     "output_type": "execute_result"
    }
   ],
   "source": [
    "# есть ли пропуски\n",
    "df.isnull().sum()\n",
    "\n",
    "# пропущенных значений нет"
   ]
  },
  {
   "cell_type": "code",
   "execution_count": null,
   "metadata": {},
   "outputs": [
    {
     "name": "stdout",
     "output_type": "stream",
     "text": [
      "Уникальные значения для 'salary' и их количество:\n",
      "salary\n",
      "low       7316\n",
      "medium    6446\n",
      "high      1237\n",
      "Name: count, dtype: Int64\n",
      "\n",
      "Уникальные значения для 'department' и их количество:\n",
      "department\n",
      "sales          4140\n",
      "technical      2720\n",
      "support        2229\n",
      "IT             1227\n",
      "product_mng     902\n",
      "marketing       858\n",
      "RandD           787\n",
      "accounting      767\n",
      "hr              739\n",
      "management      630\n",
      "Name: count, dtype: Int64\n"
     ]
    }
   ],
   "source": [
    "# посколько \"департамент\" и \"зарплата\" - это категории, проверим нет ли там странных значений\n",
    "\n",
    "# Уникальные значения и их количество для колонки 'salary'\n",
    "salary_counts = df['salary'].value_counts()\n",
    "# Уникальные значения и их количество для колонки 'department'\n",
    "department_counts = df['department'].value_counts()\n",
    "\n",
    "# Вывод результатов\n",
    "print(\"Уникальные значения для 'salary' и их количество:\")\n",
    "print(salary_counts)\n",
    "\n",
    "print(\"\\nУникальные значения для 'department' и их количество:\")\n",
    "print(department_counts)\n",
    "\n",
    "# И тут нет ничего подозрительного."
   ]
  },
  {
   "cell_type": "markdown",
   "metadata": {},
   "source": [
    "### Задание 2\n",
    "Рассчитайте основные статистики для переменных\n",
    "(среднее,медиана,мода,мин/макс,сред.отклонение)."
   ]
  },
  {
   "cell_type": "code",
   "execution_count": null,
   "metadata": {},
   "outputs": [
    {
     "data": {
      "application/vnd.microsoft.datawrangler.viewer.v0+json": {
       "columns": [
        {
         "name": "index",
         "rawType": "object",
         "type": "string"
        },
        {
         "name": "mean",
         "rawType": "float64",
         "type": "float"
        },
        {
         "name": "median",
         "rawType": "float64",
         "type": "float"
        },
        {
         "name": "mode",
         "rawType": "float64",
         "type": "float"
        },
        {
         "name": "min",
         "rawType": "float64",
         "type": "float"
        },
        {
         "name": "max",
         "rawType": "float64",
         "type": "float"
        },
        {
         "name": "std_dev",
         "rawType": "float64",
         "type": "float"
        }
       ],
       "conversionMethod": "pd.DataFrame",
       "ref": "beb36ffe-501f-4896-a947-cc350d4d048c",
       "rows": [
        [
         "satisfaction_level",
         "0.6128335222348156",
         "0.64",
         "0.1",
         "0.09",
         "1.0",
         "0.24863065106114257"
        ],
        [
         "last_evaluation",
         "0.7161017401160078",
         "0.72",
         "0.55",
         "0.36",
         "1.0",
         "0.17116911062327533"
        ],
        [
         "number_project",
         "3.80305353690246",
         "4.0",
         "4.0",
         "2.0",
         "7.0",
         "1.2325923553183522"
        ],
        [
         "average_montly_hours",
         "201.0503366891126",
         "200.0",
         "135.0",
         "96.0",
         "310.0",
         "49.94309937128408"
        ],
        [
         "time_spend_company",
         "3.498233215547703",
         "3.0",
         "3.0",
         "2.0",
         "10.0",
         "1.4601362305354812"
        ],
        [
         "Work_accident",
         "0.1446096406427095",
         "0.0",
         "0.0",
         "0.0",
         "1.0",
         "0.35171855238017985"
        ],
        [
         "left",
         "0.2380825388359224",
         "0.0",
         "0.0",
         "0.0",
         "1.0",
         "0.4259240993802994"
        ],
        [
         "promotion_last_5years",
         "0.021268084538969265",
         "0.0",
         "0.0",
         "0.0",
         "1.0",
         "0.14428146457858232"
        ]
       ],
       "shape": {
        "columns": 6,
        "rows": 8
       }
      },
      "text/html": [
       "<div>\n",
       "<style scoped>\n",
       "    .dataframe tbody tr th:only-of-type {\n",
       "        vertical-align: middle;\n",
       "    }\n",
       "\n",
       "    .dataframe tbody tr th {\n",
       "        vertical-align: top;\n",
       "    }\n",
       "\n",
       "    .dataframe thead th {\n",
       "        text-align: right;\n",
       "    }\n",
       "</style>\n",
       "<table border=\"1\" class=\"dataframe\">\n",
       "  <thead>\n",
       "    <tr style=\"text-align: right;\">\n",
       "      <th></th>\n",
       "      <th>mean</th>\n",
       "      <th>median</th>\n",
       "      <th>mode</th>\n",
       "      <th>min</th>\n",
       "      <th>max</th>\n",
       "      <th>std_dev</th>\n",
       "    </tr>\n",
       "  </thead>\n",
       "  <tbody>\n",
       "    <tr>\n",
       "      <th>satisfaction_level</th>\n",
       "      <td>0.612834</td>\n",
       "      <td>0.64</td>\n",
       "      <td>0.10</td>\n",
       "      <td>0.09</td>\n",
       "      <td>1.0</td>\n",
       "      <td>0.248631</td>\n",
       "    </tr>\n",
       "    <tr>\n",
       "      <th>last_evaluation</th>\n",
       "      <td>0.716102</td>\n",
       "      <td>0.72</td>\n",
       "      <td>0.55</td>\n",
       "      <td>0.36</td>\n",
       "      <td>1.0</td>\n",
       "      <td>0.171169</td>\n",
       "    </tr>\n",
       "    <tr>\n",
       "      <th>number_project</th>\n",
       "      <td>3.803054</td>\n",
       "      <td>4.00</td>\n",
       "      <td>4.00</td>\n",
       "      <td>2.00</td>\n",
       "      <td>7.0</td>\n",
       "      <td>1.232592</td>\n",
       "    </tr>\n",
       "    <tr>\n",
       "      <th>average_montly_hours</th>\n",
       "      <td>201.050337</td>\n",
       "      <td>200.00</td>\n",
       "      <td>135.00</td>\n",
       "      <td>96.00</td>\n",
       "      <td>310.0</td>\n",
       "      <td>49.943099</td>\n",
       "    </tr>\n",
       "    <tr>\n",
       "      <th>time_spend_company</th>\n",
       "      <td>3.498233</td>\n",
       "      <td>3.00</td>\n",
       "      <td>3.00</td>\n",
       "      <td>2.00</td>\n",
       "      <td>10.0</td>\n",
       "      <td>1.460136</td>\n",
       "    </tr>\n",
       "    <tr>\n",
       "      <th>Work_accident</th>\n",
       "      <td>0.144610</td>\n",
       "      <td>0.00</td>\n",
       "      <td>0.00</td>\n",
       "      <td>0.00</td>\n",
       "      <td>1.0</td>\n",
       "      <td>0.351719</td>\n",
       "    </tr>\n",
       "    <tr>\n",
       "      <th>left</th>\n",
       "      <td>0.238083</td>\n",
       "      <td>0.00</td>\n",
       "      <td>0.00</td>\n",
       "      <td>0.00</td>\n",
       "      <td>1.0</td>\n",
       "      <td>0.425924</td>\n",
       "    </tr>\n",
       "    <tr>\n",
       "      <th>promotion_last_5years</th>\n",
       "      <td>0.021268</td>\n",
       "      <td>0.00</td>\n",
       "      <td>0.00</td>\n",
       "      <td>0.00</td>\n",
       "      <td>1.0</td>\n",
       "      <td>0.144281</td>\n",
       "    </tr>\n",
       "  </tbody>\n",
       "</table>\n",
       "</div>"
      ],
      "text/plain": [
       "                             mean  median    mode    min    max    std_dev\n",
       "satisfaction_level       0.612834    0.64    0.10   0.09    1.0   0.248631\n",
       "last_evaluation          0.716102    0.72    0.55   0.36    1.0   0.171169\n",
       "number_project           3.803054    4.00    4.00   2.00    7.0   1.232592\n",
       "average_montly_hours   201.050337  200.00  135.00  96.00  310.0  49.943099\n",
       "time_spend_company       3.498233    3.00    3.00   2.00   10.0   1.460136\n",
       "Work_accident            0.144610    0.00    0.00   0.00    1.0   0.351719\n",
       "left                     0.238083    0.00    0.00   0.00    1.0   0.425924\n",
       "promotion_last_5years    0.021268    0.00    0.00   0.00    1.0   0.144281"
      ]
     },
     "execution_count": 45,
     "metadata": {},
     "output_type": "execute_result"
    }
   ],
   "source": [
    "# df.describe() - дает ответы на большинство этих вопросов,\n",
    "# но тут смысл в том, чтобы подтвердить знание этих методов.\n",
    "\n",
    "# делим на два разных: отдельно числовые колонки, отдельно колонки-категории\n",
    "columns_to_copy = ['department', 'salary']\n",
    "df_cat = df[columns_to_copy].copy()\n",
    "df_num = df.drop(columns=columns_to_copy).copy()\n",
    "\n",
    "# статистика числовых колонок\n",
    "num_statistics = {\n",
    "    'mean': df_num.mean(),\n",
    "    'median': df_num.median(),\n",
    "    'mode': df_num.mode().iloc[0],  # Берем первую моду, если их несколько\n",
    "    'min': df_num.min(),\n",
    "    'max': df_num.max(),\n",
    "    'std_dev': df_num.std()\n",
    "}\n",
    "\n",
    "df_num_statistics = pd.DataFrame(num_statistics)\n",
    "df_num_statistics\n"
   ]
  },
  {
   "cell_type": "code",
   "execution_count": 46,
   "metadata": {},
   "outputs": [
    {
     "data": {
      "application/vnd.microsoft.datawrangler.viewer.v0+json": {
       "columns": [
        {
         "name": "index",
         "rawType": "object",
         "type": "string"
        },
        {
         "name": "mode",
         "rawType": "float64",
         "type": "float"
        }
       ],
       "conversionMethod": "pd.DataFrame",
       "ref": "df0fcd65-e644-4052-bc88-a865376277f4",
       "rows": [
        [
         "satisfaction_level",
         "0.1"
        ],
        [
         "last_evaluation",
         "0.55"
        ],
        [
         "number_project",
         "4.0"
        ],
        [
         "average_montly_hours",
         "135.0"
        ],
        [
         "time_spend_company",
         "3.0"
        ],
        [
         "Work_accident",
         "0.0"
        ],
        [
         "left",
         "0.0"
        ],
        [
         "promotion_last_5years",
         "0.0"
        ]
       ],
       "shape": {
        "columns": 1,
        "rows": 8
       }
      },
      "text/html": [
       "<div>\n",
       "<style scoped>\n",
       "    .dataframe tbody tr th:only-of-type {\n",
       "        vertical-align: middle;\n",
       "    }\n",
       "\n",
       "    .dataframe tbody tr th {\n",
       "        vertical-align: top;\n",
       "    }\n",
       "\n",
       "    .dataframe thead th {\n",
       "        text-align: right;\n",
       "    }\n",
       "</style>\n",
       "<table border=\"1\" class=\"dataframe\">\n",
       "  <thead>\n",
       "    <tr style=\"text-align: right;\">\n",
       "      <th></th>\n",
       "      <th>mode</th>\n",
       "    </tr>\n",
       "  </thead>\n",
       "  <tbody>\n",
       "    <tr>\n",
       "      <th>satisfaction_level</th>\n",
       "      <td>0.10</td>\n",
       "    </tr>\n",
       "    <tr>\n",
       "      <th>last_evaluation</th>\n",
       "      <td>0.55</td>\n",
       "    </tr>\n",
       "    <tr>\n",
       "      <th>number_project</th>\n",
       "      <td>4.00</td>\n",
       "    </tr>\n",
       "    <tr>\n",
       "      <th>average_montly_hours</th>\n",
       "      <td>135.00</td>\n",
       "    </tr>\n",
       "    <tr>\n",
       "      <th>time_spend_company</th>\n",
       "      <td>3.00</td>\n",
       "    </tr>\n",
       "    <tr>\n",
       "      <th>Work_accident</th>\n",
       "      <td>0.00</td>\n",
       "    </tr>\n",
       "    <tr>\n",
       "      <th>left</th>\n",
       "      <td>0.00</td>\n",
       "    </tr>\n",
       "    <tr>\n",
       "      <th>promotion_last_5years</th>\n",
       "      <td>0.00</td>\n",
       "    </tr>\n",
       "  </tbody>\n",
       "</table>\n",
       "</div>"
      ],
      "text/plain": [
       "                         mode\n",
       "satisfaction_level       0.10\n",
       "last_evaluation          0.55\n",
       "number_project           4.00\n",
       "average_montly_hours   135.00\n",
       "time_spend_company       3.00\n",
       "Work_accident            0.00\n",
       "left                     0.00\n",
       "promotion_last_5years    0.00"
      ]
     },
     "execution_count": 46,
     "metadata": {},
     "output_type": "execute_result"
    }
   ],
   "source": [
    "# статистика колонок-категорий\n",
    "cat_statistics = {\n",
    "    'mode': df_num.mode().iloc[0],  # Берем первую моду, если их несколько\n",
    "}\n",
    "\n",
    "df_cat_statistics = pd.DataFrame(cat_statistics)\n",
    "df_cat_statistics"
   ]
  },
  {
   "cell_type": "markdown",
   "metadata": {},
   "source": [
    "### Задание 3\n",
    "\n",
    "Рассчитайте и визуализируйте корреляционную матрицу для количественных переменных.\n",
    "Определите две самые скоррелированные и две наименее скоррелированные переменные."
   ]
  },
  {
   "cell_type": "code",
   "execution_count": 52,
   "metadata": {},
   "outputs": [
    {
     "data": {
      "image/png": "[encoded data removed]",
      "text/plain": [
       "<Figure size 1000x600 with 2 Axes>"
      ]
     },
     "metadata": {},
     "output_type": "display_data"
    }
   ],
   "source": [
    "# Рассчет корреляционной матрицы\n",
    "correlation_matrix = df_num.corr()\n",
    "\n",
    "# Визуализация корреляционной матрицы\n",
    "plt.figure(figsize=(10, 6))\n",
    "sns.heatmap(correlation_matrix, annot=True, cmap='coolwarm', fmt=\".2f\")\n",
    "plt.title('Корреляционная матрица')\n",
    "plt.show()"
   ]
  },
  {
   "cell_type": "code",
   "execution_count": 53,
   "metadata": {},
   "outputs": [
    {
     "name": "stdout",
     "output_type": "stream",
     "text": [
      "Две самые скоррелированные переменные:\n",
      "number_project        average_montly_hours    0.417211\n",
      "average_montly_hours  number_project          0.417211\n",
      "dtype: float64\n",
      "\n",
      "Две наименее скоррелированные переменные:\n",
      "satisfaction_level  left                 -0.388375\n",
      "left                satisfaction_level   -0.388375\n",
      "dtype: float64\n"
     ]
    }
   ],
   "source": [
    "# Определение двух самых скоррелированных и двух наименее скоррелированных переменных\n",
    "correlation_pairs = correlation_matrix.unstack().sort_values(ascending=False)\n",
    "\n",
    "# Убираем самокорреляцию (где переменные равны)\n",
    "correlation_pairs = correlation_pairs[correlation_pairs < 1]\n",
    "\n",
    "# Две самые скоррелированные переменные\n",
    "most_correlated = correlation_pairs.head(2)\n",
    "\n",
    "# Две наименее скоррелированные переменные\n",
    "least_correlated = correlation_pairs.tail(2)\n",
    "\n",
    "print(\"Две самые скоррелированные переменные:\")\n",
    "print(most_correlated)\n",
    "\n",
    "print(\"\\nДве наименее скоррелированные переменные:\")\n",
    "print(least_correlated)"
   ]
  },
  {
   "cell_type": "markdown",
   "metadata": {},
   "source": [
    "### Задание 4\n",
    "Рассчитайте сколько сотрудников работает в каждом департаменте."
   ]
  },
  {
   "cell_type": "code",
   "execution_count": 54,
   "metadata": {},
   "outputs": [
    {
     "name": "stdout",
     "output_type": "stream",
     "text": [
      "Количество сотрудников в каждом департаменте:\n",
      "department\n",
      "sales          4140\n",
      "technical      2720\n",
      "support        2229\n",
      "IT             1227\n",
      "product_mng     902\n",
      "marketing       858\n",
      "RandD           787\n",
      "accounting      767\n",
      "hr              739\n",
      "management      630\n",
      "Name: count, dtype: Int64\n"
     ]
    }
   ],
   "source": [
    "# Подсчет количества сотрудников в каждом департаменте\n",
    "department_counts = df['department'].value_counts()\n",
    "\n",
    "# Вывод результата\n",
    "print(\"Количество сотрудников в каждом департаменте:\")\n",
    "print(department_counts)"
   ]
  },
  {
   "cell_type": "markdown",
   "metadata": {},
   "source": [
    "### Задание 5\n",
    "Показать распределение сотрудников по зарплатам"
   ]
  },
  {
   "cell_type": "code",
   "execution_count": 57,
   "metadata": {},
   "outputs": [
    {
     "data": {
      "image/png": "[encoded data removed]",
      "text/plain": [
       "<Figure size 800x500 with 1 Axes>"
      ]
     },
     "metadata": {},
     "output_type": "display_data"
    }
   ],
   "source": [
    "# Подсчет количества сотрудников по зарплатам\n",
    "salary_distribution = df['salary'].value_counts()\n",
    "\n",
    "# Визуализация распределения\n",
    "plt.figure(figsize=(8, 5))\n",
    "sns.barplot(x=salary_distribution.index, y=salary_distribution.values, hue=salary_distribution.index, palette='viridis')\n",
    "plt.title('Распределение сотрудников по зарплатам')\n",
    "plt.xlabel('Зарплата')\n",
    "plt.ylabel('Количество сотрудников')\n",
    "plt.xticks(rotation=45)\n",
    "plt.show()"
   ]
  },
  {
   "cell_type": "markdown",
   "metadata": {},
   "source": [
    "### Задание 6\n",
    "Показать распределение сотрудников по зарплатам в каждом департаменте по отдельности"
   ]
  },
  {
   "cell_type": "code",
   "execution_count": 58,
   "metadata": {},
   "outputs": [
    {
     "data": {
      "image/png": "[encoded data removed]",
      "text/plain": [
       "<Figure size 1000x600 with 1 Axes>"
      ]
     },
     "metadata": {},
     "output_type": "display_data"
    }
   ],
   "source": [
    "# Визуализация распределения сотрудников по зарплатам в каждом департаменте\n",
    "plt.figure(figsize=(10, 6))\n",
    "sns.countplot(data=df, x='salary', hue='department', palette='viridis')\n",
    "plt.title('Распределение сотрудников по зарплатам в каждом департаменте')\n",
    "plt.xlabel('Зарплата')\n",
    "plt.ylabel('Количество сотрудников')\n",
    "plt.legend(title='Департамент')\n",
    "plt.show()"
   ]
  },
  {
   "cell_type": "markdown",
   "metadata": {},
   "source": [
    "### Задание 7\n",
    "Проверить гипотезу, что сотрудники с высоким окладом проводят на работе больше времени, чем сотрудники с низким окладом"
   ]
  },
  {
   "cell_type": "code",
   "execution_count": 64,
   "metadata": {},
   "outputs": [
    {
     "name": "stdout",
     "output_type": "stream",
     "text": [
      "T-статистика: 0.39900653336152675\n",
      "P-значение: 0.34494729110162564\n",
      "Нулевая гипотеза возможно верна: не хватает доказательств для отклонения нулевой гипотезы.\n"
     ]
    }
   ],
   "source": [
    "# Разделение данных по зарплатам\n",
    "high_salary = df[df['salary'] == 'medium']['average_montly_hours']\n",
    "low_salary = df[df['salary'] == 'low']['average_montly_hours']\n",
    "\n",
    "# Проведение t-теста\n",
    "t_stat, p_value = stats.ttest_ind(high_salary, low_salary, alternative='greater')\n",
    "\n",
    "# Вывод результатов\n",
    "print(f\"T-статистика: {t_stat}\")\n",
    "print(f\"P-значение: {p_value}\")\n",
    "\n",
    "# уровень значимости\n",
    "alpha = 0.05\n",
    "if p_value < alpha:\n",
    "    print(\"Отвергаем нулевую гипотезу: сотрудники с высоким окладом проводят больше времени на работе.\")\n",
    "else:\n",
    "    print(\"Нулевая гипотеза возможно верна: не хватает доказательств для отклонения нулевой гипотезы.\")\n",
    "\n",
    "# Вывод:\n",
    "# 'сотрудники с высоким окладом проводят на работе больше времени, чем сотрудники с низким окладом' - очень похоже на правду, судя по статистике."
   ]
  },
  {
   "cell_type": "markdown",
   "metadata": {},
   "source": [
    "### Задание 8\n",
    "Рассчитать следующие показатели среди уволившихся и не уволившихся сотрудников (по отдельности):\n",
    "- Доля сотрудников с повышением за последние 5 лет\n",
    "- Средняя степень удовлетворенности\n",
    "- Среднее количество проектов"
   ]
  },
  {
   "cell_type": "code",
   "execution_count": 65,
   "metadata": {},
   "outputs": [
    {
     "name": "stdout",
     "output_type": "stream",
     "text": [
      "Не уволившиеся сотрудники:\n",
      " - Доля сотрудников с повышением за последние 5 лет: 0.03\n",
      " - Средняя степень удовлетворенности: 0.67\n",
      " - Среднее количество проектов: 3.79\n",
      "\n",
      "Уволившиеся сотрудники:\n",
      " - Доля сотрудников с повышением за последние 5 лет: 0.01\n",
      " - Средняя степень удовлетворенности: 0.44\n",
      " - Среднее количество проектов: 3.86\n",
      "\n"
     ]
    }
   ],
   "source": [
    "# Рассчет показателей для уволившихся (left = 1) и не уволившихся (left = 0) сотрудников\n",
    "results = {}\n",
    "\n",
    "for left_status in [0, 1]:\n",
    "    filtered_df = df[df['left'] == left_status]\n",
    "    \n",
    "    # Доля сотрудников с повышением за последние 5 лет\n",
    "    promotion_rate = filtered_df['promotion_last_5years'].mean()\n",
    "    \n",
    "    # Средняя степень удовлетворенности\n",
    "    average_satisfaction = filtered_df['satisfaction_level'].mean()\n",
    "    \n",
    "    # Среднее количество проектов\n",
    "    average_projects = filtered_df['number_project'].mean()\n",
    "    \n",
    "    results[left_status] = {\n",
    "        'promotion_rate': promotion_rate,\n",
    "        'average_satisfaction': average_satisfaction,\n",
    "        'average_projects': average_projects\n",
    "    }\n",
    "\n",
    "# Вывод результатов\n",
    "for status, metrics in results.items():\n",
    "    status_str = \"Уволившиеся\" if status == 1 else \"Не уволившиеся\"\n",
    "    print(f\"{status_str} сотрудники:\")\n",
    "    print(f\" - Доля сотрудников с повышением за последние 5 лет: {metrics['promotion_rate']:.2f}\")\n",
    "    print(f\" - Средняя степень удовлетворенности: {metrics['average_satisfaction']:.2f}\")\n",
    "    print(f\" - Среднее количество проектов: {metrics['average_projects']:.2f}\\n\")"
   ]
  },
  {
   "cell_type": "code",
   "execution_count": 68,
   "metadata": {},
   "outputs": [
    {
     "data": {
      "image/png": "[encoded data removed]",
      "text/plain": [
       "<Figure size 1000x600 with 1 Axes>"
      ]
     },
     "metadata": {},
     "output_type": "display_data"
    }
   ],
   "source": [
    "# Подготовка данных для графика\n",
    "labels = ['Не уволившиеся', 'Уволившиеся']\n",
    "promotion_rates = [results[0]['promotion_rate'], results[1]['promotion_rate']]\n",
    "average_satisfactions = [results[0]['average_satisfaction'], results[1]['average_satisfaction']]\n",
    "average_projects = [results[0]['average_projects'], results[1]['average_projects']]\n",
    "\n",
    "x = np.arange(len(labels))  # метки по оси X\n",
    "width = 0.25  # ширина столбцов\n",
    "\n",
    "# Создание графика\n",
    "fig, ax = plt.subplots(figsize=(10, 6))\n",
    "\n",
    "# Добавление столбцов на график\n",
    "bars1 = ax.bar(x - width, promotion_rates, width, label='Доля с повышением')\n",
    "bars2 = ax.bar(x, average_satisfactions, width, label='Средняя удовлетворенность')\n",
    "bars3 = ax.bar(x + width, average_projects, width, label='Среднее количество проектов')\n",
    "\n",
    "# Добавление меток и заголовка\n",
    "ax.set_xlabel('Статус увольнения')\n",
    "ax.set_title('Показатели сотрудников по статусу увольнения')\n",
    "ax.set_xticks(x)\n",
    "ax.set_xticklabels(labels)\n",
    "ax.legend()\n",
    "\n",
    "# Отображение значений над столбцами\n",
    "def add_value_labels(bars):\n",
    "    for bar in bars:\n",
    "        height = bar.get_height()\n",
    "        ax.annotate(f'{height:.2f}', \n",
    "                    xy=(bar.get_x() + bar.get_width() / 2, height), \n",
    "                    xytext=(0, 3),  # 3 points vertical offset\n",
    "                    textcoords=\"offset points\", \n",
    "                    ha='center', va='bottom')\n",
    "\n",
    "add_value_labels(bars1)\n",
    "add_value_labels(bars2)\n",
    "add_value_labels(bars3)\n",
    "\n",
    "# Показ графика\n",
    "plt.tight_layout()\n",
    "plt.show()"
   ]
  },
  {
   "cell_type": "markdown",
   "metadata": {},
   "source": [
    "### Задание 9\n",
    "Разделить данные на тестовую и обучающую выборки.\n",
    "Построить модель LDA, предсказывающую уволился ли сотрудник на основе имеющихся факторов (кроме department и salary).\n",
    "Оценить качество модели на тестовой выборке."
   ]
  },
  {
   "cell_type": "code",
   "execution_count": 79,
   "metadata": {},
   "outputs": [
    {
     "name": "stdout",
     "output_type": "stream",
     "text": [
      "Точность модели: 0.75\n",
      "\n",
      "Матрица ошибок:\n",
      "[[2094  200]\n",
      " [ 540  166]]\n",
      "\n",
      "Отчет о классификации:\n",
      "              precision    recall  f1-score   support\n",
      "\n",
      "           0       0.79      0.91      0.85      2294\n",
      "           1       0.45      0.24      0.31       706\n",
      "\n",
      "    accuracy                           0.75      3000\n",
      "   macro avg       0.62      0.57      0.58      3000\n",
      "weighted avg       0.71      0.75      0.72      3000\n",
      "\n"
     ]
    }
   ],
   "source": [
    "# Разделение данных на обучающую и тестовую выборки\n",
    "X = df_num.drop('left', axis=1)  # Признаки\n",
    "y = df_num['left']  # Целевая переменная\n",
    "\n",
    "X_train, X_test, y_train, y_test = train_test_split(X, y, test_size=0.2, random_state=42)\n",
    "\n",
    "# Обучение модели LDA\n",
    "lda = LinearDiscriminantAnalysis()\n",
    "lda.fit(X_train, y_train)\n",
    "\n",
    "# Предсказание на тестовой выборке\n",
    "y_pred = lda.predict(X_test)\n",
    "\n",
    "# Оценка качества модели\n",
    "accuracy = accuracy_score(y_test, y_pred)\n",
    "conf_matrix = confusion_matrix(y_test, y_pred)\n",
    "class_report = classification_report(y_test, y_pred)\n",
    "\n",
    "# Вывод результатов\n",
    "print(f\"Точность модели: {accuracy:.2f}\")\n",
    "print(\"\\nМатрица ошибок:\")\n",
    "print(conf_matrix)\n",
    "print(\"\\nОтчет о классификации:\")\n",
    "print(class_report)\n"
   ]
  },
  {
   "cell_type": "code",
   "execution_count": 80,
   "metadata": {},
   "outputs": [
    {
     "data": {
      "image/png": "[encoded data removed]",
      "text/plain": [
       "<Figure size 800x500 with 1 Axes>"
      ]
     },
     "metadata": {},
     "output_type": "display_data"
    }
   ],
   "source": [
    "# Визуализация точности модели\n",
    "plt.figure(figsize=(8, 5))\n",
    "plt.bar(['Точность'], [accuracy], color='skyblue')\n",
    "plt.ylim(0, 1)\n",
    "plt.title('Точность модели LDA')\n",
    "plt.ylabel('Точность')\n",
    "plt.show()"
   ]
  },
  {
   "cell_type": "code",
   "execution_count": 81,
   "metadata": {},
   "outputs": [
    {
     "data": {
      "image/png": "[encoded data removed]",
      "text/plain": [
       "<Figure size 800x500 with 2 Axes>"
      ]
     },
     "metadata": {},
     "output_type": "display_data"
    }
   ],
   "source": [
    "# Визуализация матрицы ошибок\n",
    "plt.figure(figsize=(8, 5))\n",
    "sns.heatmap(conf_matrix, annot=True, fmt='d', cmap='Blues', xticklabels=['Не уволился', 'Уволился'], yticklabels=['Не уволился', 'Уволился'])\n",
    "plt.title('Матрица ошибок')\n",
    "plt.xlabel('Предсказанный класс')\n",
    "plt.ylabel('Истинный класс')\n",
    "plt.show()"
   ]
  },
  {
   "cell_type": "code",
   "execution_count": 83,
   "metadata": {},
   "outputs": [
    {
     "data": {
      "image/png": "[encoded data removed]",
      "text/plain": [
       "<Figure size 800x500 with 1 Axes>"
      ]
     },
     "metadata": {},
     "output_type": "display_data"
    }
   ],
   "source": [
    "# Распределение предсказанных классов\n",
    "plt.figure(figsize=(8, 5))\n",
    "sns.countplot(x=y_pred, hue=y_pred, palette='pastel')\n",
    "plt.title('Распределение предсказанных классов')\n",
    "plt.xlabel('Предсказанный класс')\n",
    "plt.ylabel('Количество')\n",
    "plt.xticks([0, 1], ['Не уволился', 'Уволился'])\n",
    "plt.show()"
   ]
  },
  {
   "cell_type": "markdown",
   "metadata": {},
   "source": [
    "### Задание 10\n",
    "Загрузить jupyter notebook с решение на github и прислать ссылку"
   ]
  },
  {
   "cell_type": "markdown",
   "metadata": {},
   "source": [
    "[https://github.com/ringill/pyda/blob/main/final/solution.ipynb](https://github.com/ringill/pyda/blob/main/final/solution.ipynb)"
   ]
  }
 ],
 "metadata": {
  "kernelspec": {
   "display_name": "Python 3",
   "language": "python",
   "name": "python3"
  },
  "language_info": {
   "codemirror_mode": {
    "name": "ipython",
    "version": 3
   },
   "file_extension": ".py",
   "mimetype": "text/x-python",
   "name": "python",
   "nbconvert_exporter": "python",
   "pygments_lexer": "ipython3",
   "version": "3.13.0"
  }
 },
 "nbformat": 4,
 "nbformat_minor": 2
}
