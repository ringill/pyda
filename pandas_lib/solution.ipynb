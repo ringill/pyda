{
 "cells": [
  {
   "cell_type": "markdown",
   "metadata": {},
   "source": [
    "# Задание 1\n",
    "\n",
    "Определите, какому фильму было выставлено больше всего оценок 5.0."
   ]
  },
  {
   "cell_type": "code",
   "execution_count": 6,
   "metadata": {},
   "outputs": [
    {
     "name": "stdout",
     "output_type": "stream",
     "text": [
      "Фильм с наибольшим количеством оценок 5.0: ['Shawshank Redemption, The (1994)'] (Количество оценок: 153)\n"
     ]
    }
   ],
   "source": [
    "import pandas as pd\n",
    "\n",
    "# Загрузка данных\n",
    "movies = pd.read_csv('movies.csv')\n",
    "ratings = pd.read_csv('ratings.csv')\n",
    "\n",
    "# Фильтрация оценок 5.0\n",
    "five_star_ratings = ratings[ratings['rating'] == 5.0]\n",
    "\n",
    "# Подсчет количества оценок 5.0 для каждого фильма\n",
    "rating_counts = five_star_ratings['movieId'].value_counts()\n",
    "\n",
    "# Определение movieId фильма с наибольшим количеством оценок 5.0\n",
    "# Используем idxmax() для получения movieId с наибольшим количеством оценок и max() для получения самого количества.\n",
    "top_movie_id = rating_counts.idxmax()\n",
    "top_movie_count = rating_counts.max()\n",
    "\n",
    "# Получение названия фильма\n",
    "top_movie_title = movies[movies['movieId'] == top_movie_id]['title'].values\n",
    "\n",
    "print(f'Фильм с наибольшим количеством оценок 5.0: {top_movie_title} (Количество оценок: {top_movie_count})')"
   ]
  },
  {
   "cell_type": "markdown",
   "metadata": {},
   "source": [
    "# Задание 2\n",
    "По данным файла power.csv посчитайте суммарное потребление стран Прибалтики (Латвия, Литва и Эстония) категорий 4, 12 и 21 за период с 2005 по 2010 год. Не учитывайте в расчётах отрицательные значения quantity."
   ]
  },
  {
   "cell_type": "code",
   "execution_count": 7,
   "metadata": {},
   "outputs": [
    {
     "name": "stdout",
     "output_type": "stream",
     "text": [
      "Суммарное потребление стран Прибалтики (категории 4, 12, 21) за 2005-2010 годы: 240580.0\n"
     ]
    }
   ],
   "source": [
    "import pandas as pd\n",
    "\n",
    "# Загрузка данных\n",
    "power_data = pd.read_csv('power.csv')\n",
    "\n",
    "# Определение стран Прибалтики\n",
    "baltic_countries = ['Latvia', 'Lithuania', 'Estonia']\n",
    "\n",
    "# Фильтрация данных по странам, годам и категориям\n",
    "filtered_data = power_data[\n",
    "    (power_data['country'].isin(baltic_countries)) &\n",
    "    (power_data['year'].between(2005, 2010)) &\n",
    "    (power_data['category'].isin([4, 12, 21])) &\n",
    "    (power_data['quantity'] >= 0)  # Исключаем отрицательные значения\n",
    "]\n",
    "\n",
    "# Суммирование значений quantity\n",
    "total_consumption = filtered_data['quantity'].sum()\n",
    "\n",
    "print(f'Суммарное потребление стран Прибалтики (категории 4, 12, 21) за 2005-2010 годы: {total_consumption}')"
   ]
  },
  {
   "cell_type": "markdown",
   "metadata": {},
   "source": [
    "# Задание 3\n",
    "\n",
    "Выберите страницу сайта с табличными данными. Импортируйте таблицы в pandas DataFrame.\n",
    "Сайт: https://www.cbr.ru/key-indicators/"
   ]
  },
  {
   "cell_type": "code",
   "execution_count": null,
   "metadata": {},
   "outputs": [
    {
     "data": {
      "text/plain": [
       "[                                   0        1         2          3\n",
       " 0                          % годовых   1 день       NaN        NaN\n",
       " 1             RUONIA  за  17.12.2024     2208       NaN        NaN\n",
       " 2                          % годовых  1 месяц  3 месяца  6 месяцев\n",
       " 3  Срочная версия RUONIA  18.12.2024     2119      2030       1925\n",
       " 4                          % годовых   1 день  2-7 дней  8-30 дней\n",
       " 5              MIACR  за  17.12.2024     2205         —          —,\n",
       "                        0           1           2\n",
       " 0                 валюта  18.12.2024  19.12.2024\n",
       " 1  Китайский юань  1 CNY      139613      140761\n",
       " 2      Доллар США  1 USD     1029979     1027763\n",
       " 3            Евро  1 EUR     1083444     1085083,\n",
       "                  0           1           2\n",
       " 0  рублей за грамм  18.12.2024  19.12.2024\n",
       " 1       Золото  Au    8 789,27    8 711,38\n",
       " 2      Серебро  Ag       10151       10015\n",
       " 3      Платина  Pt    3 112,77    3 079,64\n",
       " 4     Палладий  Pd    3 162,44    3 086,25,\n",
       "                 0       1\n",
       " 0  млрд долл. США     NaN\n",
       " 1      06.12.2024  6144.0,\n",
       "                                                    0        1\n",
       " 0                                          млрд руб.      NaN\n",
       " 1  Дефицит/профицит ликвидности банковского секто...    -5367\n",
       " 2  Сведения об остатках средств на корреспондентс...      NaN\n",
       " 3            по Российской Федерации  на  18.12.2024  7 860,9\n",
       " 4             по Московскому региону  на  18.12.2024  7 529,9\n",
       " 5  Объем предоставленных внутридневных кредитов  ...     7344\n",
       " 6     Депозиты банков в Банке России  на  18.12.2024  3 442,9\n",
       " 7                    ОБР в обращении  на  18.12.2024       00\n",
       " 8  Сальдо операций Банка России по предоставлению...  1 162,9,\n",
       "                                                     0            1\n",
       " 0                                            млн руб.          NaN\n",
       " 1                По кредитам овернайт  на  18.12.2024           00\n",
       " 2              По ломбардным кредитам  на  18.12.2024    158 100,0\n",
       " 3   По кредитам под нерыночные активы ОМ  на  18.1...  4 049 605,2\n",
       " 4   По кредитам под нерыночные активы ДМ  на  18.1...    187 233,7\n",
       " 5                  По другим кредитам  на  18.12.2024    297 730,3\n",
       " 6                   По операциям репо  на  18.12.2024          NaN\n",
       " 7                                 по итогам аукционов    918 519,9\n",
       " 8                             постоянного действия ОМ    136 476,0\n",
       " 9                             постоянного действия ДМ           00\n",
       " 10         По сделкам «валютный своп»  на  28.02.2022           00\n",
       " 11        По кредитам без обеспечения  на  31.12.2010           00]"
      ]
     },
     "execution_count": 20,
     "metadata": {},
     "output_type": "execute_result"
    }
   ],
   "source": [
    "# !pip install lxml\n",
    "# !pip install html5lib\n",
    "\n",
    "import pandas as pd\n",
    "\n",
    "page_url = \"https://www.cbr.ru/key-indicators/\"\n",
    "\n",
    "df = pd.read_html(page_url)\n",
    "df"
   ]
  }
 ],
 "metadata": {
  "kernelspec": {
   "display_name": "Python 3",
   "language": "python",
   "name": "python3"
  },
  "language_info": {
   "codemirror_mode": {
    "name": "ipython",
    "version": 3
   },
   "file_extension": ".py",
   "mimetype": "text/x-python",
   "name": "python",
   "nbconvert_exporter": "python",
   "pygments_lexer": "ipython3",
   "version": "3.13.0"
  }
 },
 "nbformat": 4,
 "nbformat_minor": 2
}
